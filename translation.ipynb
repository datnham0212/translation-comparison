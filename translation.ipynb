{
 "cells": [
  {
   "cell_type": "code",
   "execution_count": 1,
   "metadata": {},
   "outputs": [],
   "source": [
    "import pandas as pd\n",
    "\n",
    "df = pd.read_csv(\"hf://datasets/intone/horror_stories_reddit/horror_stories_reddit.csv\")"
   ]
  },
  {
   "cell_type": "code",
   "execution_count": 2,
   "metadata": {},
   "outputs": [],
   "source": [
    "df = df.head(10)"
   ]
  },
  {
   "cell_type": "code",
   "execution_count": 3,
   "metadata": {},
   "outputs": [],
   "source": [
    "sample_paragraph = df['text'][1]"
   ]
  },
  {
   "cell_type": "code",
   "execution_count": 4,
   "metadata": {},
   "outputs": [
    {
     "name": "stderr",
     "output_type": "stream",
     "text": [
      "c:\\Python312\\Lib\\site-packages\\transformers\\tokenization_utils_base.py:1617: FutureWarning: `clean_up_tokenization_spaces` was not set. It will be set to `True` by default. This behavior will be deprecated in transformers v4.45, and will be then set to `False` by default. For more details check this issue: https://github.com/huggingface/transformers/issues/31884\n",
      "  warnings.warn(\n"
     ]
    },
    {
     "name": "stdout",
     "output_type": "stream",
     "text": [
      "Gốc: This happened last week, and while she didn't seem malicious, the things she said was creepy.\n",
      "Đã dịch: Chuyện này xảy ra tuần trước, và trong khi cô ấy không có vẻ gì là xấu xa, những điều cô ấy nói thật đáng sợ.\n",
      "\n",
      "Gốc: I (19M) was going home from university, and to  get home, I have to use the train.\n",
      "Đã dịch: Tôi (19 tuổi) đang từ trường đại học về nhà, và để về nhà, tôi phải dùng tàu hỏa.\n",
      "\n",
      "Gốc: As I got on, a lot of the seats were occupied.\n",
      "Đã dịch: Khi tôi lên xe, rất nhiều chỗ ngồi đã có người ngồi.\n",
      "\n",
      "Gốc: In my country, the seats are put in a way so that four people can talk and sit in front of each other, and they are kinda close, perfect for talking, even with strangers, sadly.\n",
      "Đã dịch: Ở nước tôi, chỗ ngồi được sắp xếp sao cho bốn người có thể nói chuyện và ngồi trước mặt nhau, và họ khá gần nhau, hoàn hảo để nói chuyện, ngay cả với người lạ, thật đáng buồn.\n",
      "\n",
      "Gốc: I see that there is a free space in front of this girl, who one or two years younger me, but you can never know.\n",
      "Đã dịch: Tôi thấy có một khoảng trống trước mặt cô gái này, cô bé nhỏ hơn tôi một hoặc hai tuổi, nhưng bạn không bao giờ biết được.\n",
      "\n",
      "Gốc: I go there, and I ask her if I can sit down.\n",
      "Đã dịch: Tôi đến đó, và tôi hỏi cô ấy liệu tôi có thể ngồi xuống không.\n",
      "\n",
      "Gốc: \"Of course\", she replied, and looked at me in a strange, intense way.\n",
      "Đã dịch: 'Tất nhiên', cô đáp, và nhìn tôi với ánh mắt kỳ lạ, mãnh liệt.\n",
      "\n",
      "Gốc: I pulled out my phone to distract myself from her.\n",
      "Đã dịch: Tôi rút điện thoại ra để đánh lạc hướng mình khỏi cô ấy.\n",
      "\n",
      "Gốc: She also had a chocolate in her hand, that's gonna be important for later.\n",
      "Đã dịch: Cô ấy cũng cầm một thanh sô cô la trên tay, điều đó sẽ rất quan trọng sau này.\n",
      "\n",
      "Gốc: She asked me \"Where do you live?\"\n",
      "Đã dịch: Cô ấy hỏi tôi \"Cô sống ở đâu?\"\n",
      "\n",
      "Gốc: and I was like 'Why do you have to know?\n",
      "Đã dịch: Và tôi nói, \" Tại sao bạn phải biết?\n",
      "\n",
      "Gốc: \", so she asked when I'm gonna get off the train.\n",
      "Đã dịch: \", nên cô ấy hỏi khi nào tôi sẽ xuống tàu.\n",
      "\n",
      "Gốc: I told her the place, and she told me that she's getting off the next one.\n",
      "Đã dịch: Tôi nói với cô ấy nơi đó, và cô ấy nói với tôi rằng cô ấy sẽ rời khỏi nơi tiếp theo.\n",
      "\n",
      "Gốc: She started singing, then said \"Oh, sometimes I sing.\n",
      "Đã dịch: Cô ấy bắt đầu hát, sau đó nói \"Ồ, đôi khi tôi hát.\n",
      "\n",
      "Gốc: I'm a silly girl\", then did it AGAIN.\n",
      "Đã dịch: Mình là một cô gái ngốc nghếch ', sau đó làm điều đó NGAY LẠI.\n",
      "\n",
      "Gốc: Whenever she said something, she looked at me like she was waiting a response, so I replied \"it's okay to be silly\", because I just didn't want to talk to her.\n",
      "Đã dịch: Mỗi khi cô ấy nói gì đó, cô ấy nhìn tôi như thể đang chờ câu trả lời, vì vậy tôi trả lời \"ngu ngốc cũng không sao\", bởi vì tôi không muốn nói chuyện với cô ấy.\n",
      "\n",
      "Gốc: Then, she told me that \"You're pretty\", and when I asked \"What?\"\n",
      "Đã dịch: Rồi cô ấy nói với tôi rằng \"Cậu xinh đẹp\", và khi tôi hỏi \"Cái gì?\"\n",
      "\n",
      "Gốc: she asked if she's pretty.\n",
      "Đã dịch: Cô ấy hỏi liệu có đẹp không.\n",
      "\n",
      "Gốc: In my language, the second one is an extension of the first (\"Szép vagy\" turned to \"Szép vagyok?\n",
      "Đã dịch: Trong ngôn ngữ của tôi, từ thứ hai là một phần mở rộng của từ thứ nhất (\"Szép vagy\" chuyển thành \"Szép vagyok?\n",
      "\n",
      "Gốc: \"), so it seemed like she corrected herself.\n",
      "Đã dịch: \"), vì vậy có vẻ như cô ấy đã tự sửa chữa.\n",
      "\n",
      "Gốc: Then she asked if she had chocolate on her face, she did.\n",
      "Đã dịch: Rồi cô hỏi có phải trên mặt cô có sôcôla không, cô đã hỏi.\n",
      "\n",
      "Gốc: I also got the chocolate in her offered to me, but I declined.\n",
      "Đã dịch: Tôi cũng được cô ấy mời tôi sô cô la, nhưng tôi từ chối.\n",
      "\n",
      "Gốc: She also told me about her piercing that came off, and she put it on in the middle of the train.\n",
      "Đã dịch: Cô ấy cũng kể với tôi về lỗ xỏ khuyên của cô ấy bị tháo ra, và cô ấy đeo nó vào giữa tàu.\n",
      "\n",
      "Gốc: I told her that she should get it fixed where she got it, and she said \"In Germany?\n",
      "Đã dịch: Tôi bảo cô ấy rằng cô ấy nên sửa nó ở nơi cô ấy đã xăm, và cô ấy nói \"Ở Đức?\n",
      "\n",
      "Gốc: Will you go there with me?\"\n",
      "Đã dịch: Cậu có đi cùng tớ không? '.\n",
      "\n",
      "Gốc: but obviously, I told her no.\n",
      "Đã dịch: Nhưng rõ ràng là tôi đã nói không với cô ấy.\n",
      "\n"
     ]
    },
    {
     "name": "stderr",
     "output_type": "stream",
     "text": [
      "Your input_length: 52 is bigger than 0.9 * max_length: 50. You might consider increasing your max_length manually, e.g. translator('...', max_length=400)\n"
     ]
    },
    {
     "name": "stdout",
     "output_type": "stream",
     "text": [
      "Gốc: While she tried to put on her piercing back in (her mouth-piercing), she told me that she's in love with me.\n",
      "Đã dịch: Trong khi cố đeo khuyên vào lại (đôi môi bị xỏ khuyên), cô ấy nói với tôi rằng cô ấy yêu tôi.\n",
      "\n",
      "Gốc: I told her that I have a girlfriend (I don't, but the university I attend has much prettier girls than her) and that \"the pacing is too fast for me\", and she told me that she will beat my girlfriend.\n",
      "Đã dịch: Tôi nói với cô ấy rằng tôi có bạn gái (tôi không có, nhưng trường đại học tôi theo học có nhiều cô gái xinh đẹp hơn cô ấy) và rằng \"cuộc đi bộ quá nhanh đối với tôi\", và cô\n",
      "\n",
      "Gốc: Her \"I love you\" started escalating into \"I'll kidnap you\" and \"Strip for me\".\n",
      "Đã dịch: Câu \"Anh yêu em\" của cô ấy bắt đầu leo thang thành \"Anh sẽ bắt cóc em\" và \"Đuổi em đi\".\n",
      "\n",
      "Gốc: She asked me if I'll go with her, and if she could go with me home.\n",
      "Đã dịch: Cô ấy hỏi tôi có đi cùng cô ấy không, và liệu cô ấy có thể về nhà cùng tôi không.\n",
      "\n",
      "Gốc: Then, when the train arrived at my destination, she asked me \"Are you going, love?\n",
      "Đã dịch: Khi tàu đến nơi, cô ấy hỏi tôi: \"Cậu có đi không, cưng?\n",
      "\n",
      "Gốc: \", I told her yes, and went on my way.\n",
      "Đã dịch: Tôi nói có, và đi tiếp.\n",
      "\n",
      "Gốc: Luckily she didn't follow me home.\n",
      "Đã dịch: May mắn là cô ấy không theo tôi về nhà.\n",
      "\n",
      "Gốc: She also asked me when we are going to meet again.\n",
      "Đã dịch: Cô ấy cũng hỏi tôi khi nào chúng tôi sẽ gặp lại.\n",
      "\n",
      "Gốc: Hopefully never.\n",
      "Đã dịch: Hy vọng là không bao giờ.\n",
      "\n"
     ]
    }
   ],
   "source": [
    "from transformers import pipeline\n",
    "from nltk.tokenize import sent_tokenize\n",
    "\n",
    "# Hàm để xử lý văn bản sau khi dịch \n",
    "def post_processing(text):\n",
    "    try:\n",
    "        # Dịch văn bản sử dụng pipeline của Hugging Face\n",
    "        translated_text = transformer(text, max_length=50, clean_up_tokenization_spaces=True)[0]['translation_text']\n",
    "    except Exception as e:\n",
    "        print(f\"Dịch thất bại: {e}\")\n",
    "        return text  # Trả về văn bản gốc nếu dịch thất bại\n",
    "    \n",
    "    return remove_vi_at_beginning(translated_text)\n",
    "\n",
    "# Hàm để chia đoạn văn thành các câu\n",
    "def split_paragraph(paragraph):\n",
    "    return sent_tokenize(paragraph)\n",
    "\n",
    "# Hàm để loại bỏ \"vi\" ở đầu câu, nếu có\n",
    "def remove_vi_at_beginning(translated_text):\n",
    "    if translated_text.startswith(\"vi\"):\n",
    "        return ' '.join(translated_text.split()[1:])\n",
    "    return translated_text\n",
    "\n",
    "if __name__ == '__main__':\n",
    "    # Tải mô hình dịch từ Hugging Face\n",
    "    transformer = pipeline(\"translation\", model=\"VietAI/envit5-translation\")\n",
    "\n",
    "    # Chia đoạn văn mẫu thành các câu\n",
    "    sentences = split_paragraph(sample_paragraph)\n",
    "\n",
    "    for sentence in sentences:\n",
    "        # Dịch và xử lý sau khi dịch\n",
    "        translated_text = post_processing(sentence)\n",
    "        print(f\"Gốc: {sentence}\\nĐã dịch: {translated_text}\\n\")\n"
   ]
  }
 ],
 "metadata": {
  "kernelspec": {
   "display_name": "Python 3",
   "language": "python",
   "name": "python3"
  },
  "language_info": {
   "codemirror_mode": {
    "name": "ipython",
    "version": 3
   },
   "file_extension": ".py",
   "mimetype": "text/x-python",
   "name": "python",
   "nbconvert_exporter": "python",
   "pygments_lexer": "ipython3",
   "version": "3.12.4"
  }
 },
 "nbformat": 4,
 "nbformat_minor": 2
}
